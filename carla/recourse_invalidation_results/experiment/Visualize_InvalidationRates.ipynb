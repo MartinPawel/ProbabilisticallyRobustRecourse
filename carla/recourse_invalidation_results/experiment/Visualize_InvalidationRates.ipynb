{
 "cells": [
  {
   "cell_type": "code",
   "execution_count": 48,
   "metadata": {},
   "outputs": [],
   "source": [
    "import pandas as pd\n",
    "import numpy as np\n",
    "import seaborn as sns\n",
    "import os"
   ]
  },
  {
   "cell_type": "code",
   "execution_count": 49,
   "metadata": {},
   "outputs": [],
   "source": [
    "from torch.distributions.multivariate_normal import MultivariateNormal\n",
    "import torch.distributions.normal as normal_distribution\n",
    "import torch\n",
    "import math"
   ]
  },
  {
   "cell_type": "code",
   "execution_count": 50,
   "metadata": {},
   "outputs": [
    {
     "data": {
      "text/plain": [
       "'data'"
      ]
     },
     "execution_count": 50,
     "metadata": {},
     "output_type": "execute_result"
    }
   ],
   "source": [
    "## for Palatino and other serif fonts use:\n",
    "import seaborn as sns\n",
    "# Seaborn style\n",
    "sns.set_theme(style=\"whitegrid\", font_scale=1.25)\n",
    "import matplotlib.pyplot as plt\n",
    "from matplotlib import rc\n",
    "\n",
    "font = {'family': 'serif',\n",
    "        'weight': 'bold',\n",
    "        'serif': ['Palatino'],\n",
    "        'size': 16}\n",
    "rc('font', **font)\n",
    "rc('text', usetex=True)\n",
    "plt.rcParams['text.latex.preamble'] = [r'\\boldmath']\n",
    "plt.rcParams['axes.autolimit_mode']"
   ]
  },
  {
   "cell_type": "code",
   "execution_count": 51,
   "metadata": {},
   "outputs": [
    {
     "name": "stdout",
     "output_type": "stream",
     "text": [
      "The autoreload extension is already loaded. To reload it, use:\n",
      "  %reload_ext autoreload\n"
     ]
    }
   ],
   "source": [
    "%load_ext autoreload\n",
    "%autoreload 2"
   ]
  },
  {
   "cell_type": "code",
   "execution_count": 52,
   "metadata": {},
   "outputs": [],
   "source": [
    "current_dir = os.getcwd()\n",
    "# print(current_dir)\n",
    "# directory = '/Documents/project_robust_explanations/RobustExplanations/carla/recourse_invalidation_results/experiment_09_01_22/'"
   ]
  },
  {
   "cell_type": "markdown",
   "metadata": {},
   "source": [
    "### ANN Models"
   ]
  },
  {
   "cell_type": "code",
   "execution_count": 59,
   "metadata": {},
   "outputs": [
    {
     "data": {
      "image/png": "[encoded data removed]",
      "text/plain": [
       "<Figure size 1080x216 with 3 Axes>"
      ]
     },
     "metadata": {},
     "output_type": "display_data"
    }
   ],
   "source": [
    "# ANN Models across data sets\n",
    "color = 'nipy_spectral_r'\n",
    "alpha = 0.5\n",
    "intarget = \"0.5\"\n",
    "model = 'ANN'\n",
    "width = \"50\"\n",
    "sigma2 = \"0.01\"\n",
    "\n",
    "model_names = ['ar', 'wachter', 'gs', 'dice']\n",
    "model_names_plot = ['AR-LIME', 'Wachter', 'GS', 'DICE']\n",
    "data_names = [\"adult\", \"compas\", \"give_me_some_credit\"]\n",
    "data_names_plot = [\"Adult\", \"Compas\" ,\"GMC\"]\n",
    "\n",
    "fig, ax = plt.subplots(1, 3, figsize=(15, 3))\n",
    "\n",
    "ax[0].set_ylim(0.0, 1)\n",
    "ax[1].set_ylim(0.0, 1)\n",
    "ax[2].set_ylim(0.0, 1)\n",
    "\n",
    "ax[0].axhline(0.5, linestyle='dotted', label='Base', color='k')\n",
    "ax[1].axhline(0.5, linestyle='dotted', label='Base', color='k')\n",
    "ax[2].axhline(0.5, linestyle='dotted', label='Base', color='k')\n",
    "\n",
    "ph1 = [] \n",
    "ph2 = []\n",
    "\n",
    "it = 0\n",
    "for data_name in data_names:\n",
    "    jt = 0\n",
    "    for model_name in model_names:\n",
    "        \n",
    "        if model_name == 'wachter_rip':\n",
    "            intarget = \"0.45\"\n",
    "        else:\n",
    "            intarget = \"0.5\"\n",
    "\n",
    "        df = pd.read_csv(current_dir + '/' + model_name + '_'+ data_name + '_' + model + '_' + width + '_sigma2_' + sigma2 + '_intarget_' + intarget + '/delta.csv')\n",
    "\n",
    "        # identify values for which no CE could be found!\n",
    "        df2 = pd.read_csv(current_dir + '/' + model_name + '_' + data_name + '_' + model + '_' + width + '_sigma2_' + sigma2 + '_intarget_' + intarget + '/counterfactual.csv')\n",
    "        df1 = pd.read_csv(current_dir + '/' + model_name + '_' + data_name + '_' + model + '_' + width + '_sigma2_' + sigma2 + '_intarget_' + intarget + '/factual.csv')\n",
    "\n",
    "        ce_class = df2['prediction'].values\n",
    "        ce_class_idx = np.where(ce_class==1)[0]\n",
    "\n",
    "        ce_norm = np.linalg.norm(df2.values[ce_class_idx] - df1.values[ce_class_idx], axis=1)\n",
    "        df = df.values[ce_class_idx]\n",
    "\n",
    "        ph1 = ph1 + list(df)\n",
    "        ph2 = ph2 + list(np.repeat(model_names_plot[jt], df.shape[0]))\n",
    "        \n",
    "        jt += 1\n",
    "\n",
    "    values = np.array(ph1).reshape(-1, 1)\n",
    "    names = np.array(ph2).reshape(-1, 1)\n",
    "    df = np.c_[values, names]\n",
    "    df = pd.DataFrame(df)\n",
    "    df.columns = ['RIP', 'Model']\n",
    "    df[\"RIP\"] = pd.to_numeric(df[\"RIP\"])\n",
    "\n",
    "    sns.boxplot(y=\"RIP\", x=\"Model\", data=df, ax=ax[it], palette=color, boxprops=dict(alpha=alpha))\n",
    "    ax[it].set_xlabel('Explanation Models')\n",
    "    ax[it].set_title(data_names_plot[it])\n",
    "    ax[it].spines['top'].set_visible(False)\n",
    "    ax[it].set_ylabel('Invalidation Rate')\n",
    "    \n",
    "    if it == 0:\n",
    "        ax[it].spines['top'].set_visible(False)\n",
    "        ax[it].spines['right'].set_visible(False)\n",
    "    elif it == 1:\n",
    "        ax[it].spines['top'].set_visible(False)\n",
    "        ax[it].spines['left'].set_visible(False)\n",
    "        ax[it].spines['right'].set_visible(False)\n",
    "    else:\n",
    "        ax[it].spines['top'].set_visible(False)\n",
    "        ax[it].spines['left'].set_visible(False)\n",
    "    it += 1\n",
    "    \n",
    "fig.tight_layout()\n",
    "fig.savefig(current_dir + '/' + 'rips_' + \"all_datasets\" +  '_' + \"all_models\" + '_' + 'width_' + width + '_sigma2_' + sigma2 + '.pdf')"
   ]
  },
  {
   "cell_type": "markdown",
   "metadata": {},
   "source": [
    "### Linear Models"
   ]
  },
  {
   "cell_type": "code",
   "execution_count": 61,
   "metadata": {},
   "outputs": [
    {
     "data": {
      "image/png": "[encoded data removed]",
      "text/plain": [
       "<Figure size 1080x216 with 3 Axes>"
      ]
     },
     "metadata": {},
     "output_type": "display_data"
    }
   ],
   "source": [
    "# ANN Models across data sets\n",
    "color = 'nipy_spectral_r'\n",
    "alpha = 0.5\n",
    "intarget = \"0.2\"\n",
    "model = 'Linear'\n",
    "width = \"0\"\n",
    "sigma2 = \"0.01\"\n",
    "\n",
    "model_names = ['ar', 'wachter', 'gs', 'dice']\n",
    "model_names_plot = ['AR', 'Wachter', 'GS', 'DICE']\n",
    "data_names = [\"adult\", \"compas\", \"give_me_some_credit\"]\n",
    "data_names_plot = [\"Adult\", \"Compas\" ,\"GMC\"]\n",
    "\n",
    "fig, ax = plt.subplots(1, 3, figsize=(15, 3))\n",
    "\n",
    "ax[0].set_ylim(0.20, 0.65)\n",
    "ax[1].set_ylim(0.20, 0.65)\n",
    "ax[2].set_ylim(0.20, 0.65)\n",
    "\n",
    "ax[0].axhline(0.5, linestyle='dotted', label='Base', color='k')\n",
    "ax[1].axhline(0.5, linestyle='dotted', label='Base', color='k')\n",
    "ax[2].axhline(0.5, linestyle='dotted', label='Base', color='k')\n",
    "\n",
    "ph1 = [] \n",
    "ph2 = []\n",
    "\n",
    "it = 0\n",
    "for data_name in data_names:\n",
    "    jt = 0\n",
    "    for model_name in model_names:\n",
    "        \n",
    "        if model_name == 'wachter_rip':\n",
    "            intarget = \"0.45\"\n",
    "        else:\n",
    "            intarget = \"0.5\"\n",
    "\n",
    "        df = pd.read_csv(current_dir + '/' + model_name + '_'+ data_name + '_' + model + '_' + width + '_sigma2_' + sigma2 + '_intarget_' + intarget + '/delta.csv')\n",
    "\n",
    "        # identify values for which no CE could be found!\n",
    "        df2 = pd.read_csv(current_dir + '/' + model_name + '_' + data_name + '_' + model + '_' + width + '_sigma2_' + sigma2 + '_intarget_' + intarget + '/counterfactual.csv')\n",
    "        df1 = pd.read_csv(current_dir + '/' + model_name + '_' + data_name + '_' + model + '_' + width + '_sigma2_' + sigma2 + '_intarget_' + intarget + '/factual.csv')\n",
    "\n",
    "        ce_class = df2['prediction'].values\n",
    "        ce_class_idx = np.where(ce_class==1)[0]\n",
    "\n",
    "        ce_norm = np.linalg.norm(df2.values[ce_class_idx] - df1.values[ce_class_idx], axis=1)\n",
    "        df = df.values[ce_class_idx]\n",
    "\n",
    "        ph1 = ph1 + list(df)\n",
    "        ph2 = ph2 + list(np.repeat(model_names_plot[jt], df.shape[0]))\n",
    "        \n",
    "        jt += 1\n",
    "\n",
    "    values = np.array(ph1).reshape(-1, 1)\n",
    "    names = np.array(ph2).reshape(-1, 1)\n",
    "    df = np.c_[values, names]\n",
    "    df = pd.DataFrame(df)\n",
    "    df.columns = ['RIP', 'Model']\n",
    "    df[\"RIP\"] = pd.to_numeric(df[\"RIP\"])\n",
    "\n",
    "    sns.boxplot(y=\"RIP\", x=\"Model\", data=df, ax=ax[it], palette=color, boxprops=dict(alpha=alpha))\n",
    "    ax[it].set_xlabel('Explanation Models')\n",
    "    ax[it].set_title(data_names_plot[it])\n",
    "    ax[it].spines['top'].set_visible(False)\n",
    "    ax[it].set_ylabel('Invalidation Rate')\n",
    "    ax[it].set_ylim([0,1])\n",
    "    \n",
    "    if it == 0:\n",
    "        ax[it].spines['top'].set_visible(False)\n",
    "        ax[it].spines['right'].set_visible(False)\n",
    "    elif it == 1:\n",
    "        ax[it].spines['top'].set_visible(False)\n",
    "        ax[it].spines['left'].set_visible(False)\n",
    "        ax[it].spines['right'].set_visible(False)\n",
    "    else:\n",
    "        ax[it].spines['top'].set_visible(False)\n",
    "        ax[it].spines['left'].set_visible(False)\n",
    "    it += 1\n",
    "    \n",
    "fig.tight_layout()\n",
    "fig.savefig(current_dir + '/' + 'rips_' + \"all_datasets\" +  '_' + \"all_linear_models\" + '_' + 'width_' + width + '_sigma2_' + sigma2 + '.pdf')"
   ]
  }
 ],
 "metadata": {
  "kernelspec": {
   "display_name": "Python 3",
   "language": "python",
   "name": "python3"
  },
  "language_info": {
   "codemirror_mode": {
    "name": "ipython",
    "version": 3
   },
   "file_extension": ".py",
   "mimetype": "text/x-python",
   "name": "python",
   "nbconvert_exporter": "python",
   "pygments_lexer": "ipython3",
   "version": "3.6.8"
  }
 },
 "nbformat": 4,
 "nbformat_minor": 4
}
