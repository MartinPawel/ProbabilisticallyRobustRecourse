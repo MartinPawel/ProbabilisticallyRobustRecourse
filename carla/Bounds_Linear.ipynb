{
 "cells": [
  {
   "cell_type": "code",
   "execution_count": 1,
   "metadata": {},
   "outputs": [],
   "source": [
    "import pandas as pd\n",
    "import numpy as np\n",
    "import seaborn as sns\n",
    "import os\n",
    "from scipy.stats import norm"
   ]
  },
  {
   "cell_type": "code",
   "execution_count": 2,
   "metadata": {},
   "outputs": [],
   "source": [
    "from torch.distributions.multivariate_normal import MultivariateNormal\n",
    "import torch.distributions.normal as normal_distribution\n",
    "import torch\n",
    "import math"
   ]
  },
  {
   "cell_type": "code",
   "execution_count": 3,
   "metadata": {},
   "outputs": [
    {
     "name": "stderr",
     "output_type": "stream",
     "text": [
      "C:\\Users\\fred0\\Anaconda3\\envs\\env_robustnes\\lib\\site-packages\\tensorflow\\python\\framework\\dtypes.py:516: FutureWarning: Passing (type, 1) or '1type' as a synonym of type is deprecated; in a future version of numpy, it will be understood as (type, (1,)) / '(1,)type'.\n",
      "  _np_qint8 = np.dtype([(\"qint8\", np.int8, 1)])\n",
      "C:\\Users\\fred0\\Anaconda3\\envs\\env_robustnes\\lib\\site-packages\\tensorflow\\python\\framework\\dtypes.py:517: FutureWarning: Passing (type, 1) or '1type' as a synonym of type is deprecated; in a future version of numpy, it will be understood as (type, (1,)) / '(1,)type'.\n",
      "  _np_quint8 = np.dtype([(\"quint8\", np.uint8, 1)])\n",
      "C:\\Users\\fred0\\Anaconda3\\envs\\env_robustnes\\lib\\site-packages\\tensorflow\\python\\framework\\dtypes.py:518: FutureWarning: Passing (type, 1) or '1type' as a synonym of type is deprecated; in a future version of numpy, it will be understood as (type, (1,)) / '(1,)type'.\n",
      "  _np_qint16 = np.dtype([(\"qint16\", np.int16, 1)])\n",
      "C:\\Users\\fred0\\Anaconda3\\envs\\env_robustnes\\lib\\site-packages\\tensorflow\\python\\framework\\dtypes.py:519: FutureWarning: Passing (type, 1) or '1type' as a synonym of type is deprecated; in a future version of numpy, it will be understood as (type, (1,)) / '(1,)type'.\n",
      "  _np_quint16 = np.dtype([(\"quint16\", np.uint16, 1)])\n",
      "C:\\Users\\fred0\\Anaconda3\\envs\\env_robustnes\\lib\\site-packages\\tensorflow\\python\\framework\\dtypes.py:520: FutureWarning: Passing (type, 1) or '1type' as a synonym of type is deprecated; in a future version of numpy, it will be understood as (type, (1,)) / '(1,)type'.\n",
      "  _np_qint32 = np.dtype([(\"qint32\", np.int32, 1)])\n",
      "C:\\Users\\fred0\\Anaconda3\\envs\\env_robustnes\\lib\\site-packages\\tensorflow\\python\\framework\\dtypes.py:525: FutureWarning: Passing (type, 1) or '1type' as a synonym of type is deprecated; in a future version of numpy, it will be understood as (type, (1,)) / '(1,)type'.\n",
      "  np_resource = np.dtype([(\"resource\", np.ubyte, 1)])\n",
      "C:\\Users\\fred0\\Anaconda3\\envs\\env_robustnes\\lib\\site-packages\\tensorboard\\compat\\tensorflow_stub\\dtypes.py:541: FutureWarning: Passing (type, 1) or '1type' as a synonym of type is deprecated; in a future version of numpy, it will be understood as (type, (1,)) / '(1,)type'.\n",
      "  _np_qint8 = np.dtype([(\"qint8\", np.int8, 1)])\n",
      "C:\\Users\\fred0\\Anaconda3\\envs\\env_robustnes\\lib\\site-packages\\tensorboard\\compat\\tensorflow_stub\\dtypes.py:542: FutureWarning: Passing (type, 1) or '1type' as a synonym of type is deprecated; in a future version of numpy, it will be understood as (type, (1,)) / '(1,)type'.\n",
      "  _np_quint8 = np.dtype([(\"quint8\", np.uint8, 1)])\n",
      "C:\\Users\\fred0\\Anaconda3\\envs\\env_robustnes\\lib\\site-packages\\tensorboard\\compat\\tensorflow_stub\\dtypes.py:543: FutureWarning: Passing (type, 1) or '1type' as a synonym of type is deprecated; in a future version of numpy, it will be understood as (type, (1,)) / '(1,)type'.\n",
      "  _np_qint16 = np.dtype([(\"qint16\", np.int16, 1)])\n",
      "C:\\Users\\fred0\\Anaconda3\\envs\\env_robustnes\\lib\\site-packages\\tensorboard\\compat\\tensorflow_stub\\dtypes.py:544: FutureWarning: Passing (type, 1) or '1type' as a synonym of type is deprecated; in a future version of numpy, it will be understood as (type, (1,)) / '(1,)type'.\n",
      "  _np_quint16 = np.dtype([(\"quint16\", np.uint16, 1)])\n",
      "C:\\Users\\fred0\\Anaconda3\\envs\\env_robustnes\\lib\\site-packages\\tensorboard\\compat\\tensorflow_stub\\dtypes.py:545: FutureWarning: Passing (type, 1) or '1type' as a synonym of type is deprecated; in a future version of numpy, it will be understood as (type, (1,)) / '(1,)type'.\n",
      "  _np_qint32 = np.dtype([(\"qint32\", np.int32, 1)])\n",
      "C:\\Users\\fred0\\Anaconda3\\envs\\env_robustnes\\lib\\site-packages\\tensorboard\\compat\\tensorflow_stub\\dtypes.py:550: FutureWarning: Passing (type, 1) or '1type' as a synonym of type is deprecated; in a future version of numpy, it will be understood as (type, (1,)) / '(1,)type'.\n",
      "  np_resource = np.dtype([(\"resource\", np.ubyte, 1)])\n",
      "Using TensorFlow backend.\n"
     ]
    },
    {
     "name": "stdout",
     "output_type": "stream",
     "text": [
      "[INFO] Using Python-MIP package version 1.12.0 [model.py <module>]\n"
     ]
    }
   ],
   "source": [
    "from data.catalog import DataCatalog\n",
    "from models.catalog import MLModelCatalog"
   ]
  },
  {
   "cell_type": "code",
   "execution_count": 4,
   "metadata": {},
   "outputs": [
    {
     "data": {
      "text/plain": [
       "'\\nsns.set_theme(style=\"whitegrid\")\\nviz_dict = {\\n    \"font.size\": 16,\\n    \\'axes.titlesize\\': 18,\\n    \\'axes.labelsize\\': 16,\\n    \"legend.fontsize\": 14,\\n    \"xtick.labelsize\": 13,\\n    \"ytick.labelsize\": 13,\\n} \\nsns.set_context(\"notebook\", rc=viz_dict)\\nimport matplotlib.pyplot as plt\\nfrom matplotlib import rc\\n\\nfont = {\\'family\\': \\'serif\\',\\n        \\'weight\\': \\'bold\\',\\n        \\'serif\\': [\\'Palatino\\'],\\n        \\'size\\': 20}\\nrc(\\'font\\', **font)\\nrc(\\'text\\', usetex=True)\\nplt.rcParams[\\'text.latex.preamble\\'] = [r\\'\\x08oldmath\\']\\nplt.rcParams[\\'axes.autolimit_mode\\']\\n'"
      ]
     },
     "execution_count": 4,
     "metadata": {},
     "output_type": "execute_result"
    }
   ],
   "source": [
    "'''\n",
    "sns.set_theme(style=\"whitegrid\")\n",
    "viz_dict = {\n",
    "    \"font.size\": 16,\n",
    "    'axes.titlesize': 18,\n",
    "    'axes.labelsize': 16,\n",
    "    \"legend.fontsize\": 14,\n",
    "    \"xtick.labelsize\": 13,\n",
    "    \"ytick.labelsize\": 13,\n",
    "} \n",
    "sns.set_context(\"notebook\", rc=viz_dict)\n",
    "import matplotlib.pyplot as plt\n",
    "from matplotlib import rc\n",
    "\n",
    "font = {'family': 'serif',\n",
    "        'weight': 'bold',\n",
    "        'serif': ['Palatino'],\n",
    "        'size': 20}\n",
    "rc('font', **font)\n",
    "rc('text', usetex=True)\n",
    "plt.rcParams['text.latex.preamble'] = [r'\\boldmath']\n",
    "plt.rcParams['axes.autolimit_mode']\n",
    "'''"
   ]
  },
  {
   "cell_type": "code",
   "execution_count": 5,
   "metadata": {},
   "outputs": [
    {
     "name": "stderr",
     "output_type": "stream",
     "text": [
      "C:\\Users\\fred0\\Anaconda3\\envs\\env_robustnes\\lib\\site-packages\\ipykernel_launcher.py:23: MatplotlibDeprecationWarning: Support for setting an rcParam that expects a str value to a non-str value is deprecated since 3.5 and support will be removed two minor releases later.\n"
     ]
    },
    {
     "data": {
      "text/plain": [
       "'data'"
      ]
     },
     "execution_count": 5,
     "metadata": {},
     "output_type": "execute_result"
    }
   ],
   "source": [
    "## for Palatino and other serif fonts use:\n",
    "import seaborn as sns\n",
    "sns.set_theme(style=\"whitegrid\")\n",
    "#sns.set_context(font_scale=1.6)\n",
    "viz_dict = {\n",
    "    \"font.size\": 16,\n",
    "    'axes.titlesize': 18,\n",
    "    'axes.labelsize': 16,\n",
    "    \"legend.fontsize\": 14,\n",
    "    \"xtick.labelsize\": 13,\n",
    "    \"ytick.labelsize\": 13,\n",
    "} \n",
    "sns.set_context(\"notebook\", rc=viz_dict)\n",
    "import matplotlib.pyplot as plt\n",
    "from matplotlib import rc\n",
    "\n",
    "font = {'family': 'serif',\n",
    "        'weight': 'bold',\n",
    "        'serif': ['Palatino'],\n",
    "        'size': 20}\n",
    "rc('font', **font)\n",
    "rc('text', usetex=True)\n",
    "plt.rcParams['text.latex.preamble'] = [r'\\boldmath']\n",
    "plt.rcParams['axes.autolimit_mode']"
   ]
  },
  {
   "cell_type": "code",
   "execution_count": 6,
   "metadata": {},
   "outputs": [],
   "source": [
    "def gaussian_pdf(mean, var):\n",
    "    pi = torch.tensor(math.pi)\n",
    "    pdf = 1/(torch.sqrt(2*pi)) * torch.exp(- 0.5 * torch.divide( torch.square(-mean), var) )\n",
    "    return pdf"
   ]
  },
  {
   "cell_type": "code",
   "execution_count": 7,
   "metadata": {},
   "outputs": [],
   "source": [
    "current_dir = os.getcwd()\n",
    "current_dir  = current_dir + '/recourse_invalidation_results/experiment_09_01_22/'"
   ]
  },
  {
   "cell_type": "code",
   "execution_count": 8,
   "metadata": {},
   "outputs": [],
   "source": [
    "# Need to be in \"C:\\\\Users\\\\fred0\\\\Documents\\\\project_robust_explanations\\\\RobustExplanations\\\\carla'"
   ]
  },
  {
   "cell_type": "code",
   "execution_count": 9,
   "metadata": {},
   "outputs": [],
   "source": [
    "training_params_linear = {\n",
    "    \"adult\": {\"lr\": 0.002, \"epochs\": 100, \"batch_size\": 1024},\n",
    "    \"compas\": {\"lr\": 0.002, \"epochs\": 25, \"batch_size\": 128},\n",
    "    \"give_me_some_credit\": {\"lr\": 0.002, \"epochs\": 50, \"batch_size\": 2048},\n",
    "}\n",
    "training_params_ann = {\n",
    "    \"adult\": {\"lr\": 0.002, \"epochs\": 30, \"batch_size\": 1024},\n",
    "    \"compas\": {\"lr\": 0.002, \"epochs\": 25, \"batch_size\": 25},\n",
    "    \"give_me_some_credit\": {\"lr\": 0.002, \"epochs\": 50, \"batch_size\": 2048},\n",
    "}\n",
    "training_params = {\"linear\": training_params_linear, \"ann\": training_params_ann}"
   ]
  },
  {
   "cell_type": "code",
   "execution_count": 10,
   "metadata": {},
   "outputs": [],
   "source": [
    "# This function obtains the weights from the linear model\n",
    "def get_weight(model, intercept=False) -> np.array:\n",
    "    \n",
    "    # get weights and bias of linear layer for negative class 0\n",
    "    coeffs_neg = model.raw_model.output.weight[0].detach().numpy()\n",
    "    intercepts_neg = model.raw_model.output.bias[0].detach().numpy()\n",
    "\n",
    "    # get weights and bias of linear layer for positive class 1\n",
    "    coeffs_pos = model.raw_model.output.weight[1].detach().numpy()\n",
    "    intercepts_pos = model.raw_model.output.bias[1].detach().numpy()\n",
    "\n",
    "    coeffs = -(coeffs_neg - coeffs_pos)\n",
    "    if intercept:\n",
    "        intercepts = -(intercepts_neg - intercepts_pos)\n",
    "        return coeffs, intercept\n",
    "    else:\n",
    "        return coeffs\n",
    "\n",
    "def get_logit_score(prob):\n",
    "    logit = np.log(prob/(1-prob))\n",
    "    return logit\n",
    "\n",
    "def get_omega(weight: np.array, action: np.array) -> np.array:\n",
    "    # This function computes the cosine of the angle\n",
    "    dot_product = np.dot(weight, action)\n",
    "    norm_action = np.linalg.norm(action, ord=2)\n",
    "    norm_weight = np.linalg.norm(weight, ord=2)\n",
    "    omega = dot_product / (norm_action * norm_weight)\n",
    "    return omega\n",
    "\n",
    "def get_norms(action: np.array) -> np.array:\n",
    "    norm_inf = np.linalg.norm(action, np.inf)\n",
    "    norm_zero = np.linalg.norm(action, ord=0)\n",
    "    norm_one = np.linalg.norm(action, ord=1)\n",
    "    return norm_zero, norm_one, norm_inf\n",
    "\n",
    "def compute_constant(model, factual: np.array, action: np.array, sigma: float) -> np.array:\n",
    "    norm_action = np.linalg.norm(action, 2)\n",
    "    prob_factual = model.raw_model(torch.tensor(factual).float()).detach().numpy()[1]\n",
    "    logit_factual = get_logit_score(prob_factual)\n",
    "    constant = logit_factual / (norm_action * sigma)\n",
    "    return constant\n",
    "    \n",
    "def compute_upper_bound(model, factual: np.array, action: np.array, weight: np.array, sigma: float) -> np.array:\n",
    "    omega = get_omega(weight, action)\n",
    "    action_norm_zero, action_norm_one, action_norm_inf = get_norms(action)\n",
    "    constant = compute_constant(model, factual, weight, sigma)\n",
    "    y = constant + (omega/sigma) * (action_norm_one/np.sqrt(action_norm_zero))\n",
    "    cdf = norm.cdf(y)\n",
    "    lower_bound = 1 - cdf\n",
    "    return lower_bound, omega"
   ]
  },
  {
   "cell_type": "code",
   "execution_count": 11,
   "metadata": {
    "scrolled": true
   },
   "outputs": [
    {
     "name": "stdout",
     "output_type": "stream",
     "text": [
      "linear\n",
      "Loaded model from C:\\Users\\fred0\\carla\\models\\adult\\linear.pt\n"
     ]
    },
    {
     "name": "stderr",
     "output_type": "stream",
     "text": [
      "C:\\Users\\fred0\\Anaconda3\\envs\\env_robustnes\\lib\\site-packages\\sklearn\\utils\\deprecation.py:87: FutureWarning: Function get_feature_names is deprecated; get_feature_names is deprecated in 1.0 and will be removed in 1.2. Please use get_feature_names_out instead.\n",
      "  warnings.warn(msg, category=FutureWarning)\n",
      "C:\\Users\\fred0\\Anaconda3\\envs\\env_robustnes\\lib\\site-packages\\carla_recourse-0.0.4-py3.7.egg\\carla\\models\\catalog\\Linear_TORCH\\model_linear.py:34: UserWarning: Implicit dimension choice for softmax has been deprecated. Change the call to include dim=X as an argument.\n",
      "  output = self.softmax(output)\n"
     ]
    },
    {
     "name": "stdout",
     "output_type": "stream",
     "text": [
      "approx. acc: 0.8325688073394495\n",
      "ar\n",
      "wachter\n",
      "gs\n",
      "dice\n"
     ]
    },
    {
     "name": "stderr",
     "output_type": "stream",
     "text": [
      "C:\\Users\\fred0\\Anaconda3\\envs\\env_robustnes\\lib\\site-packages\\carla_recourse-0.0.4-py3.7.egg\\carla\\models\\catalog\\Linear_TORCH\\model_linear.py:34: UserWarning: Implicit dimension choice for softmax has been deprecated. Change the call to include dim=X as an argument.\n",
      "  output = self.softmax(output)\n"
     ]
    },
    {
     "name": "stdout",
     "output_type": "stream",
     "text": [
      "roar\n",
      "arar\n",
      "wachter_rip\n",
      "linear\n",
      "Loaded model from C:\\Users\\fred0\\carla\\models\\compas\\linear.pt\n",
      "approx. acc: 0.8418664938431627\n",
      "ar\n",
      "wachter\n",
      "gs\n",
      "dice\n",
      "roar\n"
     ]
    },
    {
     "name": "stderr",
     "output_type": "stream",
     "text": [
      "C:\\Users\\fred0\\Anaconda3\\envs\\env_robustnes\\lib\\site-packages\\sklearn\\utils\\deprecation.py:87: FutureWarning: Function get_feature_names is deprecated; get_feature_names is deprecated in 1.0 and will be removed in 1.2. Please use get_feature_names_out instead.\n",
      "  warnings.warn(msg, category=FutureWarning)\n",
      "C:\\Users\\fred0\\Anaconda3\\envs\\env_robustnes\\lib\\site-packages\\carla_recourse-0.0.4-py3.7.egg\\carla\\models\\catalog\\Linear_TORCH\\model_linear.py:34: UserWarning: Implicit dimension choice for softmax has been deprecated. Change the call to include dim=X as an argument.\n",
      "  output = self.softmax(output)\n",
      "C:\\Users\\fred0\\Anaconda3\\envs\\env_robustnes\\lib\\site-packages\\carla_recourse-0.0.4-py3.7.egg\\carla\\models\\catalog\\Linear_TORCH\\model_linear.py:34: UserWarning: Implicit dimension choice for softmax has been deprecated. Change the call to include dim=X as an argument.\n",
      "  output = self.softmax(output)\n"
     ]
    },
    {
     "name": "stdout",
     "output_type": "stream",
     "text": [
      "arar\n",
      "wachter_rip\n",
      "linear\n",
      "Loaded model from C:\\Users\\fred0\\carla\\models\\give_me_some_credit\\linear.pt\n",
      "approx. acc: 0.9348036839554047\n",
      "ar\n",
      "wachter\n",
      "gs\n"
     ]
    },
    {
     "name": "stderr",
     "output_type": "stream",
     "text": [
      "C:\\Users\\fred0\\Anaconda3\\envs\\env_robustnes\\lib\\site-packages\\sklearn\\utils\\deprecation.py:87: FutureWarning: Function get_feature_names is deprecated; get_feature_names is deprecated in 1.0 and will be removed in 1.2. Please use get_feature_names_out instead.\n",
      "  warnings.warn(msg, category=FutureWarning)\n",
      "C:\\Users\\fred0\\Anaconda3\\envs\\env_robustnes\\lib\\site-packages\\carla_recourse-0.0.4-py3.7.egg\\carla\\models\\catalog\\Linear_TORCH\\model_linear.py:34: UserWarning: Implicit dimension choice for softmax has been deprecated. Change the call to include dim=X as an argument.\n",
      "  output = self.softmax(output)\n",
      "C:\\Users\\fred0\\Anaconda3\\envs\\env_robustnes\\lib\\site-packages\\carla_recourse-0.0.4-py3.7.egg\\carla\\models\\catalog\\Linear_TORCH\\model_linear.py:34: UserWarning: Implicit dimension choice for softmax has been deprecated. Change the call to include dim=X as an argument.\n",
      "  output = self.softmax(output)\n"
     ]
    },
    {
     "name": "stdout",
     "output_type": "stream",
     "text": [
      "dice\n",
      "roar\n",
      "arar\n",
      "wachter_rip\n"
     ]
    },
    {
     "data": {
      "image/png": "[encoded data removed]",
      "text/plain": [
       "<Figure size 720x216 with 1 Axes>"
      ]
     },
     "metadata": {},
     "output_type": "display_data"
    }
   ],
   "source": [
    "# color = 'nipy_spectral_r'\n",
    "color = 'seismic_r'\n",
    "alpha = 0.5\n",
    "intarget = \"0.3\"\n",
    "model_type = \"linear\"\n",
    "width = \"0\"\n",
    "sigma2 = \"0.01\"\n",
    "\n",
    "backend = \"pytorch\"\n",
    "hidden_width = \"0\"\n",
    "\n",
    "#model_names = ['ar', 'wachter', 'gs', 'wachter_rip']\n",
    "#model_names_plot = ['AR', 'Wachter', 'GS','EXPECT']\n",
    "#data_names = [\"adult\", \"compas\", \"give_me_some_credit\"]\n",
    "#data_names_plot = [\"Adult\", \"Compas\" , \"GMC\"]\n",
    "\n",
    "model_names = ['ar', 'wachter', 'gs', 'dice', 'roar', 'arar', 'wachter_rip']\n",
    "model_names_plot = ['AR-LIME', 'Wachter', 'GS', 'DICE', 'ROAR', 'ARAR', 'PROBE']\n",
    "data_names = [\"adult\", \"compas\", \"give_me_some_credit\"]\n",
    "data_names_plot = [\"Adult\", \"Compas\" , \"GMC\"]\n",
    "\n",
    "for data_name in data_names:\n",
    "    plt.close('all')\n",
    "    fig, ax = plt.subplots(1, 1, figsize=(10, 3))\n",
    "\n",
    "    params = training_params[model_type][data_name]\n",
    "    data = DataCatalog(data_name)\n",
    "    model = MLModelCatalog(\n",
    "        data, model_type, load_online=False, use_pipeline=True, backend=backend\n",
    "    )\n",
    "    model.train(\n",
    "        learning_rate=params[\"lr\"],\n",
    "        epochs=params[\"epochs\"],\n",
    "        batch_size=params[\"batch_size\"],\n",
    "        hidden_size=hidden_width,\n",
    "    )\n",
    "    model.use_pipeline = False\n",
    "\n",
    "    ph1 = [] \n",
    "    ph2 = []\n",
    "    ph3 = []\n",
    "\n",
    "    if data_name == 'adult':\n",
    "        data_plot_name = 'Adult'\n",
    "    elif data_name == 'compas':\n",
    "        data_plot_name = 'Compas'   \n",
    "    elif data_name == 'give_me_some_credit':\n",
    "        data_plot_name = 'GMC'\n",
    "\n",
    "    jt = 0\n",
    "    for model_name in model_names:\n",
    "        print(model_name)\n",
    "\n",
    "        if model_name == 'wachter_rip':\n",
    "            intarget = \"0.4\"\n",
    "        else:\n",
    "            intarget = \"0.5\"\n",
    "\n",
    "        # identify values for which no CE could be found!\n",
    "        df2 = pd.read_csv(current_dir + '/' + model_name + '_' + data_name + '_' + model_type + '_' + width + '_sigma2_' + sigma2 + '_intarget_' + intarget + '/counterfactual.csv')\n",
    "        df1 = pd.read_csv(current_dir + '/' + model_name + '_' + data_name + '_' + model_type + '_' + width + '_sigma2_' + sigma2 + '_intarget_' + intarget + '/factual.csv')\n",
    "        df1 = df1.drop(columns=['prediction'])\n",
    "        ce_class = df2['prediction'].values\n",
    "        ce_class_idx = np.where(ce_class==1)[0]\n",
    "        df2 = df2.drop(columns=['prediction'])\n",
    "        df = pd.read_csv(current_dir + '/' + model_name + '_'+ data_name + '_' + model_type + '_' + width + '_sigma2_' + sigma2 + '_intarget_' + intarget + '/delta.csv')\n",
    "\n",
    "        rips = df.values[ce_class_idx]\n",
    "        actions = df2.values[ce_class_idx] - df1.values[ce_class_idx]\n",
    "        x = df1.values[ce_class_idx]\n",
    "\n",
    "        n_samples = x.shape[0] \n",
    "        uppers = []\n",
    "        lowers = []\n",
    "        probs = []\n",
    "\n",
    "        for it in range(n_samples):\n",
    "            sigma = np.sqrt(float(sigma2))\n",
    "            factual = x[it]\n",
    "            action = actions[it]\n",
    "            cf = factual + action\n",
    "            rip = rips[it][0]\n",
    "\n",
    "            # Compute upper and lower bounds\n",
    "            weight = get_weight(model, intercept=False)\n",
    "            upper, omega = compute_upper_bound(model, factual, action, weight, sigma)\n",
    "\n",
    "            if (rip <= upper+0.01):\n",
    "                uppers.append(np.round(upper, 2))\n",
    "                probs.append(np.round(rip, 2))\n",
    "\n",
    "        ph1 = ph1 + probs + uppers\n",
    "        n_samples = len(probs)\n",
    "\n",
    "        upper_names = list(np.repeat('Theoretical Bound', n_samples).reshape(-1, 1))\n",
    "        rip_names = list(np.repeat('Empirical IR', n_samples).reshape(-1, 1))\n",
    "        #lower_names = list(np.repeat('Lower', n_samples).reshape(-1, 1))\n",
    "        ph2 = ph2 + rip_names + upper_names \n",
    "\n",
    "        method_name = list(np.repeat(model_names_plot[jt], n_samples*2))\n",
    "        ph3 = ph3 + method_name\n",
    "\n",
    "        jt += 1\n",
    "\n",
    "    dframe = np.c_[ph1, ph2, ph3]\n",
    "    dframe = pd.DataFrame(dframe)\n",
    "    dframe.columns = ['Invalidation Rate', 'Type', 'Recourse Methods']\n",
    "    dframe[\"Invalidation Rate\"] = pd.to_numeric(dframe[\"Invalidation Rate\"])\n",
    "\n",
    "    f = sns.boxplot(y=\"Invalidation Rate\", x=\"Recourse Methods\", hue=\"Type\", \n",
    "                    data=dframe, ax=ax, palette=color, boxprops=dict(alpha=alpha))    \n",
    "    f.legend(ncol=2)\n",
    "    ax.spines['top'].set_visible(False)\n",
    "    ax.spines['right'].set_visible(False)\n",
    "    ax.spines['left'].set_visible(False)\n",
    "    ax.axhline(0.5, linestyle='dotted', label='Base', color='k')\n",
    "    ax.set_ylim([0,1])\n",
    "    ax.set_title(data_plot_name)\n",
    "\n",
    "    fig.tight_layout()\n",
    "    fig.savefig(current_dir + '/' + 'bounds_' + data_name +  '_' + \"all_linear_models\" + '_' + 'width_' + width + '_sigma2_' + sigma2 + '.pdf')"
   ]
  }
 ],
 "metadata": {
  "kernelspec": {
   "display_name": "env_robustnes",
   "language": "python",
   "name": "env_robustnes"
  },
  "language_info": {
   "codemirror_mode": {
    "name": "ipython",
    "version": 3
   },
   "file_extension": ".py",
   "mimetype": "text/x-python",
   "name": "python",
   "nbconvert_exporter": "python",
   "pygments_lexer": "ipython3",
   "version": "3.7.1"
  }
 },
 "nbformat": 4,
 "nbformat_minor": 4
}
