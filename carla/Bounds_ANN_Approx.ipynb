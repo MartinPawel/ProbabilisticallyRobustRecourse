{
 "cells": [
  {
   "cell_type": "code",
   "execution_count": 265,
   "metadata": {},
   "outputs": [],
   "source": [
    "import pandas as pd\n",
    "import numpy as np\n",
    "import seaborn as sns\n",
    "import os\n",
    "from scipy.stats import norm"
   ]
  },
  {
   "cell_type": "code",
   "execution_count": 266,
   "metadata": {},
   "outputs": [],
   "source": [
    "from torch.distributions.multivariate_normal import MultivariateNormal\n",
    "import torch.distributions.normal as normal_distribution\n",
    "import torch\n",
    "import math"
   ]
  },
  {
   "cell_type": "code",
   "execution_count": 267,
   "metadata": {},
   "outputs": [],
   "source": [
    "from data.catalog import DataCatalog\n",
    "from models.catalog import MLModelCatalog\n",
    "from torch import nn\n",
    "softmax = nn.Softmax()"
   ]
  },
  {
   "cell_type": "code",
   "execution_count": 268,
   "metadata": {},
   "outputs": [
    {
     "name": "stderr",
     "output_type": "stream",
     "text": [
      "C:\\Users\\fred0\\Anaconda3\\envs\\env_robustnes\\lib\\site-packages\\ipykernel_launcher.py:23: MatplotlibDeprecationWarning: Support for setting an rcParam that expects a str value to a non-str value is deprecated since 3.5 and support will be removed two minor releases later.\n"
     ]
    },
    {
     "data": {
      "text/plain": [
       "'data'"
      ]
     },
     "execution_count": 268,
     "metadata": {},
     "output_type": "execute_result"
    }
   ],
   "source": [
    "## for Palatino and other serif fonts use:\n",
    "import seaborn as sns\n",
    "sns.set_theme(style=\"whitegrid\")\n",
    "#sns.set_context(font_scale=1.6)\n",
    "viz_dict = {\n",
    "    \"font.size\": 16,\n",
    "    'axes.titlesize': 18,\n",
    "    'axes.labelsize': 16,\n",
    "    \"legend.fontsize\": 14,\n",
    "    \"xtick.labelsize\": 13,\n",
    "    \"ytick.labelsize\": 13,\n",
    "} \n",
    "sns.set_context(\"notebook\", rc=viz_dict)\n",
    "import matplotlib.pyplot as plt\n",
    "from matplotlib import rc\n",
    "\n",
    "font = {'family': 'serif',\n",
    "        'weight': 'bold',\n",
    "        'serif': ['Palatino'],\n",
    "        'size': 20}\n",
    "rc('font', **font)\n",
    "rc('text', usetex=True)\n",
    "plt.rcParams['text.latex.preamble'] = [r'\\boldmath']\n",
    "plt.rcParams['axes.autolimit_mode']"
   ]
  },
  {
   "cell_type": "code",
   "execution_count": 269,
   "metadata": {},
   "outputs": [],
   "source": [
    "def gaussian_pdf(mean, var):\n",
    "    pi = torch.tensor(math.pi)\n",
    "    pdf = 1/(torch.sqrt(2*pi)) * torch.exp(- 0.5 * torch.divide( torch.square(-mean), var) )\n",
    "    return pdf"
   ]
  },
  {
   "cell_type": "code",
   "execution_count": 270,
   "metadata": {},
   "outputs": [],
   "source": [
    "current_dir = os.getcwd()\n",
    "current_dir  = current_dir + '/recourse_invalidation_results/experiment_09_01_22/'"
   ]
  },
  {
   "cell_type": "code",
   "execution_count": 271,
   "metadata": {},
   "outputs": [],
   "source": [
    "# Need to be in \"C:\\\\Users\\\\fred0\\\\Documents\\\\project_robust_explanations\\\\RobustExplanations\\\\carla'"
   ]
  },
  {
   "cell_type": "code",
   "execution_count": 272,
   "metadata": {},
   "outputs": [],
   "source": [
    "training_params_linear = {\n",
    "    \"adult\": {\"lr\": 0.002, \"epochs\": 100, \"batch_size\": 1024},\n",
    "    \"compas\": {\"lr\": 0.002, \"epochs\": 25, \"batch_size\": 128},\n",
    "    \"give_me_some_credit\": {\"lr\": 0.002, \"epochs\": 50, \"batch_size\": 2048},\n",
    "}\n",
    "training_params_ann = {\n",
    "    \"adult\": {\"lr\": 0.002, \"epochs\": 30, \"batch_size\": 1024},\n",
    "    \"compas\": {\"lr\": 0.002, \"epochs\": 25, \"batch_size\": 25},\n",
    "    \"give_me_some_credit\": {\"lr\": 0.002, \"epochs\": 50, \"batch_size\": 2048},\n",
    "}\n",
    "training_params = {\"linear\": training_params_linear, \"ann\": training_params_ann}"
   ]
  },
  {
   "cell_type": "code",
   "execution_count": 273,
   "metadata": {},
   "outputs": [],
   "source": [
    "def compute_jacobian(inputs, output, num_classes=1):\n",
    "    \"\"\"\n",
    "    :param inputs: Batch X Size (e.g. Depth X Width X Height)\n",
    "    :param output: Batch X Classes\n",
    "    :return: jacobian: Batch X Classes X Size\n",
    "    \"\"\"\n",
    "    assert inputs.requires_grad\n",
    "    \n",
    "    jacobian = torch.zeros(num_classes, *inputs.size())\n",
    "    grad_output = torch.zeros(*output.size())\n",
    "    \n",
    "    grad_output.zero_()\n",
    "    grad_output[0] = 1\n",
    "    output.backward(grad_output)\n",
    "    jacobian = inputs.grad.data\n",
    "    \n",
    "    return jacobian"
   ]
  },
  {
   "cell_type": "code",
   "execution_count": 274,
   "metadata": {},
   "outputs": [],
   "source": [
    "def get_lastlayer_weight(model, intercept=False) -> torch.tensor:\n",
    "    \n",
    "    # LAST LAYER\n",
    "    last_layer = model.raw_model.layers[-1]\n",
    "    last_layer_weights = last_layer.weight.squeeze()\n",
    "    last_layer_biases = last_layer.bias.squeeze()\n",
    "    \n",
    "    # get weights and bias of layer for negative class 0\n",
    "    coeffs_neg = last_layer_weights[0]\n",
    "    intercepts_neg = last_layer_biases[0]\n",
    "\n",
    "    # get weights and bias of linear layer for positive class 1\n",
    "    coeffs_pos = last_layer_weights[1]\n",
    "    intercepts_pos = last_layer_biases[1]\n",
    "\n",
    "    coeffs = -(coeffs_neg - coeffs_pos)\n",
    "    if intercept:\n",
    "        intercepts = -(intercepts_neg - intercepts_pos)\n",
    "        return coeffs, intercept\n",
    "    else:\n",
    "        return coeffs"
   ]
  },
  {
   "cell_type": "code",
   "execution_count": 275,
   "metadata": {},
   "outputs": [],
   "source": [
    "# This function obtains the weights from the ANN model\n",
    "def get_constant_and_jacobian(model, sigma2, x, cf) -> np.array:\n",
    "    \n",
    "    #print(sigma2)    \n",
    "    sigma = np.sqrt(np.array(sigma2))\n",
    "    \n",
    "    # get CF logit\n",
    "    x = torch.tensor(x).float()\n",
    "    cf = torch.tensor(cf).float()\n",
    "    prob = softmax(model.raw_model(x))\n",
    "    #print('prob', prob)\n",
    "    logit_x = torch.log(prob[1]/prob[0]).detach().numpy()\n",
    "    #print('logit', logit_x)\n",
    "\n",
    "    # get jacobian at factual\n",
    "    fixed_x_tensor = torch.autograd.Variable(x.clone(), requires_grad=True)\n",
    "    output_f_tensor = model.raw_model(fixed_x_tensor)\n",
    "    jacobian_x = compute_jacobian(fixed_x_tensor, output_f_tensor, num_classes=1).detach().numpy()\n",
    "    \n",
    "    # get jacobian at counterfactual\n",
    "    fixed_cf_tensor = torch.autograd.Variable(cf.clone(), requires_grad=True)\n",
    "    output_cf_tensor = model.raw_model(fixed_cf_tensor)\n",
    "    jacobian_cf = compute_jacobian(fixed_cf_tensor, output_cf_tensor, num_classes=1).detach().numpy()\n",
    "\n",
    "    jacobian_norm_cf = np.linalg.norm(jacobian_cf, ord=2)\n",
    "    constant_prime = logit_x / (jacobian_norm_cf * sigma)\n",
    "    \n",
    "    return constant_prime, jacobian_x, jacobian_cf\n",
    "\n",
    "def get_omega(weight: np.array, action: np.array) -> np.array:\n",
    "    # This function computes the cosine of the angle\n",
    "    dot_product = np.dot(weight, action)\n",
    "    norm_action = np.linalg.norm(action, ord=2)\n",
    "    norm_weight = np.linalg.norm(weight, ord=2)\n",
    "    omega = dot_product / (norm_action * norm_weight)\n",
    "    return omega\n",
    "\n",
    "def get_norms(action: np.array) -> np.array:\n",
    "    norm_inf = np.linalg.norm(action, np.inf)\n",
    "    norm_zero = np.linalg.norm(action, ord=0)\n",
    "    norm_one = np.linalg.norm(action, ord=1)\n",
    "    return norm_zero, norm_one, norm_inf\n",
    "\n",
    "def compute_upper_bound(model, factual: np.array, cf:np.array, action: np.array, sigma2: float) -> np.array:\n",
    "    constant, jacobian_x, jacobian_cf = get_constant_and_jacobian(model, sigma2, factual, cf) \n",
    "    omega = get_omega(jacobian_x, action)\n",
    "    \n",
    "    action_norm_zero, action_norm_one, action_norm_inf = get_norms(action)\n",
    "    \n",
    "    norm_jac_x = np.linalg.norm(jacobian_x, ord=2)\n",
    "    norm_jac_cf = np.linalg.norm(jacobian_cf, ord=2)\n",
    "    \n",
    "    y = constant + (omega/np.sqrt(sigma2)) * (norm_jac_x/norm_jac_cf) * (action_norm_one / np.sqrt(action_norm_zero))\n",
    "    \n",
    "    cdf = norm.cdf(y)\n",
    "    lower_bound = 1 - cdf\n",
    "    return lower_bound"
   ]
  },
  {
   "cell_type": "code",
   "execution_count": 276,
   "metadata": {},
   "outputs": [
    {
     "name": "stdout",
     "output_type": "stream",
     "text": [
      "ann_layers_50\n",
      "Loaded model from C:\\Users\\fred0\\carla\\models\\adult\\ann_layers_50.pt\n",
      "approx. acc: 0.8352719528178244\n",
      "ar\n",
      "adult\n",
      "wachter\n",
      "adult\n"
     ]
    },
    {
     "name": "stderr",
     "output_type": "stream",
     "text": [
      "C:\\Users\\fred0\\Anaconda3\\envs\\env_robustnes\\lib\\site-packages\\sklearn\\utils\\deprecation.py:87: FutureWarning: Function get_feature_names is deprecated; get_feature_names is deprecated in 1.0 and will be removed in 1.2. Please use get_feature_names_out instead.\n",
      "  warnings.warn(msg, category=FutureWarning)\n",
      "C:\\Users\\fred0\\Anaconda3\\envs\\env_robustnes\\lib\\site-packages\\ipykernel_launcher.py:10: UserWarning: Implicit dimension choice for softmax has been deprecated. Change the call to include dim=X as an argument.\n",
      "  # Remove the CWD from sys.path while we load stuff.\n"
     ]
    },
    {
     "name": "stdout",
     "output_type": "stream",
     "text": [
      "gs\n",
      "adult\n",
      "dice\n",
      "adult\n",
      "roar\n",
      "adult\n",
      "arar\n",
      "adult\n",
      "wachter_rip\n",
      "adult\n",
      "ann_layers_50\n",
      "Loaded model from C:\\Users\\fred0\\carla\\models\\compas\\ann_layers_50.pt\n",
      "approx. acc: 0.8230719377835386\n",
      "ar\n",
      "compas\n",
      "wachter\n",
      "compas\n",
      "gs\n",
      "compas\n",
      "dice\n",
      "compas\n"
     ]
    },
    {
     "name": "stderr",
     "output_type": "stream",
     "text": [
      "C:\\Users\\fred0\\Anaconda3\\envs\\env_robustnes\\lib\\site-packages\\sklearn\\utils\\deprecation.py:87: FutureWarning: Function get_feature_names is deprecated; get_feature_names is deprecated in 1.0 and will be removed in 1.2. Please use get_feature_names_out instead.\n",
      "  warnings.warn(msg, category=FutureWarning)\n",
      "C:\\Users\\fred0\\Anaconda3\\envs\\env_robustnes\\lib\\site-packages\\ipykernel_launcher.py:10: UserWarning: Implicit dimension choice for softmax has been deprecated. Change the call to include dim=X as an argument.\n",
      "  # Remove the CWD from sys.path while we load stuff.\n"
     ]
    },
    {
     "name": "stdout",
     "output_type": "stream",
     "text": [
      "roar\n",
      "compas\n",
      "arar\n",
      "compas\n",
      "wachter_rip\n",
      "compas\n",
      "ann_layers_50\n",
      "Loaded model from C:\\Users\\fred0\\carla\\models\\give_me_some_credit\\ann_layers_50.pt\n",
      "approx. acc: 0.9286406758534728\n",
      "ar\n",
      "give_me_some_credit\n",
      "wachter\n",
      "give_me_some_credit\n",
      "gs\n",
      "give_me_some_credit\n"
     ]
    },
    {
     "name": "stderr",
     "output_type": "stream",
     "text": [
      "C:\\Users\\fred0\\Anaconda3\\envs\\env_robustnes\\lib\\site-packages\\sklearn\\utils\\deprecation.py:87: FutureWarning: Function get_feature_names is deprecated; get_feature_names is deprecated in 1.0 and will be removed in 1.2. Please use get_feature_names_out instead.\n",
      "  warnings.warn(msg, category=FutureWarning)\n",
      "C:\\Users\\fred0\\Anaconda3\\envs\\env_robustnes\\lib\\site-packages\\ipykernel_launcher.py:10: UserWarning: Implicit dimension choice for softmax has been deprecated. Change the call to include dim=X as an argument.\n",
      "  # Remove the CWD from sys.path while we load stuff.\n"
     ]
    },
    {
     "name": "stdout",
     "output_type": "stream",
     "text": [
      "dice\n",
      "give_me_some_credit\n",
      "roar\n",
      "give_me_some_credit\n",
      "arar\n",
      "give_me_some_credit\n",
      "wachter_rip\n",
      "give_me_some_credit\n"
     ]
    },
    {
     "data": {
      "image/png": "[encoded data removed]",
      "text/plain": [
       "<Figure size 720x216 with 1 Axes>"
      ]
     },
     "metadata": {},
     "output_type": "display_data"
    }
   ],
   "source": [
    "# color = 'nipy_spectral_r'\n",
    "color = 'seismic_r'\n",
    "alpha = 0.5\n",
    "intarget = \"0.3\"\n",
    "model_type = \"ann\"\n",
    "sigma2 = \"0.01\"\n",
    "backend = \"pytorch\"\n",
    "widths = [\"50\"]\n",
    "\n",
    "for width in widths:\n",
    "\n",
    "    if width == \"50\":\n",
    "        hidden_width = [50]\n",
    "    elif width == \"100\":\n",
    "        hidden_width = [100]\n",
    "    elif width == \"1000\":\n",
    "        hidden_width = [1000]\n",
    "\n",
    "    model_names = ['ar', 'wachter', 'gs', 'dice', 'roar', 'arar', 'wachter_rip']\n",
    "    model_names_plot = ['AR-LIME', 'Wachter', 'GS', 'DICE', 'ROAR', 'ARAR', 'PROBE']\n",
    "    data_names = [\"adult\", \"compas\", \"give_me_some_credit\"]\n",
    "    data_names_plot = [\"Adult\", \"Compas\" , \"GMC\"]\n",
    "\n",
    "    for data_name in data_names:\n",
    "        plt.close('all')\n",
    "        fig, ax = plt.subplots(1, 1, figsize=(10, 3))\n",
    "\n",
    "        params = training_params[model_type][data_name]\n",
    "        data = DataCatalog(data_name)\n",
    "        model = MLModelCatalog(\n",
    "            data, model_type, load_online=False, use_pipeline=True, backend=backend\n",
    "        )\n",
    "        model.train(\n",
    "            learning_rate=params[\"lr\"],\n",
    "            epochs=params[\"epochs\"],\n",
    "            batch_size=params[\"batch_size\"],\n",
    "            hidden_size=hidden_width,\n",
    "        )\n",
    "        model.use_pipeline = False\n",
    "\n",
    "        ph1 = [] \n",
    "        ph2 = []\n",
    "        ph3 = []\n",
    "\n",
    "        if data_name == 'adult':\n",
    "            data_plot_name = 'Adult'\n",
    "        elif data_name == 'compas':\n",
    "            data_plot_name = 'Compas'   \n",
    "        elif data_name == 'give_me_some_credit':\n",
    "            data_plot_name = 'GMC'\n",
    "\n",
    "        jt = 0\n",
    "        for model_name in model_names:\n",
    "            print(model_name)\n",
    "            print(data_name)\n",
    "\n",
    "            if model_name == 'wachter_rip':\n",
    "                intarget = \"0.35\"\n",
    "            else:\n",
    "                intarget = \"0.5\"\n",
    "\n",
    "            # identify values for which no CE could be found!\n",
    "            df2 = pd.read_csv(current_dir + '/' + model_name + '_' + data_name + '_' + model_type + '_' + width + '_sigma2_' + sigma2 + '_intarget_' + intarget + '/counterfactual.csv')\n",
    "            df1 = pd.read_csv(current_dir + '/' + model_name + '_' + data_name + '_' + model_type + '_' + width + '_sigma2_' + sigma2 + '_intarget_' + intarget + '/factual.csv')\n",
    "            df1 = df1.drop(columns=['prediction'])\n",
    "            ce_class = df2['prediction'].values\n",
    "            ce_class_idx = np.where(ce_class==1)[0]\n",
    "            df2 = df2.drop(columns=['prediction'])\n",
    "            df = pd.read_csv(current_dir + '/' + model_name + '_'+ data_name + '_' + model_type + '_' + width + '_sigma2_' + sigma2 + '_intarget_' + intarget + '/delta.csv')\n",
    "\n",
    "            rips = df.values[ce_class_idx]\n",
    "            actions = df2.values[ce_class_idx] - df1.values[ce_class_idx]\n",
    "            x = df1.values[ce_class_idx]\n",
    "            cfs = df2.values[ce_class_idx]\n",
    "    \n",
    "            n_samples = x.shape[0] \n",
    "            uppers = []\n",
    "            lowers = []\n",
    "            probs = []\n",
    "\n",
    "            for it in range(n_samples):\n",
    "                sig2 = float(sigma2)\n",
    "                sigma = np.sqrt(sig2)\n",
    "                factual = x[it]\n",
    "                action = actions[it]\n",
    "                cf = cfs[it]\n",
    "                rip = rips[it][0]\n",
    "                \n",
    "                # Compute upper bounds\n",
    "                upper = compute_upper_bound(model, factual, cf, action, sig2)\n",
    "                uppers.append(np.round(upper, 2))\n",
    "                probs.append(np.round(rip, 2))\n",
    "\n",
    "            ph1 = ph1 + probs + uppers\n",
    "            n_samples = len(probs)\n",
    "\n",
    "            upper_names = list(np.repeat('Theoretical Bound', n_samples).reshape(-1, 1))\n",
    "            rip_names = list(np.repeat('Empirical IR', n_samples).reshape(-1, 1))\n",
    "            ph2 = ph2 + rip_names + upper_names \n",
    "\n",
    "            method_name = list(np.repeat(model_names_plot[jt], n_samples*2))\n",
    "            ph3 = ph3 + method_name\n",
    "\n",
    "            jt += 1\n",
    "\n",
    "        dframe = np.c_[ph1, ph2, ph3]\n",
    "        dframe = pd.DataFrame(dframe)\n",
    "        dframe.columns = ['Invalidation Rate', 'Type', 'Recourse Methods']\n",
    "        dframe[\"Invalidation Rate\"] = pd.to_numeric(dframe[\"Invalidation Rate\"])\n",
    "\n",
    "        f = sns.boxplot(y=\"Invalidation Rate\", x=\"Recourse Methods\", hue=\"Type\", \n",
    "                        data=dframe, ax=ax, palette=color, boxprops=dict(alpha=alpha))    \n",
    "        f.legend(ncol=2, loc=3)\n",
    "        ax.spines['top'].set_visible(False)\n",
    "        ax.spines['right'].set_visible(False)\n",
    "        ax.spines['left'].set_visible(False)\n",
    "        ax.axhline(0.5, linestyle='dotted', label='Base', color='k')\n",
    "        ax.set_ylim([0,1])\n",
    "        ax.set_title(data_plot_name)\n",
    "\n",
    "        fig.tight_layout()\n",
    "        fig.savefig(current_dir + '/' + 'bounds_' + data_name +  '_' + \"all_\"+ model_type  +\"_models\" + '_' + 'width_' + width + '_sigma2_' + sigma2 + '.pdf')"
   ]
  },
  {
   "cell_type": "code",
   "execution_count": null,
   "metadata": {},
   "outputs": [],
   "source": []
  }
 ],
 "metadata": {
  "kernelspec": {
   "display_name": "env_robustnes",
   "language": "python",
   "name": "env_robustnes"
  },
  "language_info": {
   "codemirror_mode": {
    "name": "ipython",
    "version": 3
   },
   "file_extension": ".py",
   "mimetype": "text/x-python",
   "name": "python",
   "nbconvert_exporter": "python",
   "pygments_lexer": "ipython3",
   "version": "3.7.1"
  }
 },
 "nbformat": 4,
 "nbformat_minor": 4
}
